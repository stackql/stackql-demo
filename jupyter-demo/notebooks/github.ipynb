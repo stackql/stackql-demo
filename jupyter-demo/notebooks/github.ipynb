{
 "cells": [
  {
   "cell_type": "code",
   "execution_count": null,
   "metadata": {},
   "outputs": [],
   "source": [
    "import json, pandas as pd\n",
    "from pystackql import StackQL\n",
    "auth = { \n",
    "        \"github\": { \n",
    "        \"credentialsenvvar\": \"GITHUB_CREDS\",  \n",
    "        \"type\": \"basic\" \n",
    "        } \n",
    "       }\n",
    "iql = StackQL(auth=json.dumps(auth))   "
   ]
  },
  {
   "cell_type": "code",
   "execution_count": null,
   "metadata": {},
   "outputs": [],
   "source": [
    "iql.executeStmt(\"REGISTRY PULL github v0.3.1\")"
   ]
  },
  {
   "cell_type": "code",
   "execution_count": null,
   "metadata": {},
   "outputs": [],
   "source": [
    "iql_query=\"\"\"\n",
    "select DATE(JSON_EXTRACT(commit, '$.author.date')) as commit_date, count(*) as num_commits\n",
    "from  github.repos.commits \n",
    "where owner = 'stackql' and repo = 'stackql' \n",
    "group by DATE(JSON_EXTRACT(commit, '$.author.date')) ;\n",
    "\"\"\"\n",
    "pd.read_json(iql.execute(iql_query)).plot(kind='bar', title='Commit History', x='commit_date', y='num_commits')"
   ]
  }
 ],
 "metadata": {
  "language_info": {
   "name": "python"
  },
  "orig_nbformat": 4
 },
 "nbformat": 4,
 "nbformat_minor": 2
}
