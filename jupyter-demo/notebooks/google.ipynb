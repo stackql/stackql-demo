{
 "cells": [
  {
   "cell_type": "code",
   "execution_count": null,
   "id": "5f4d2d85",
   "metadata": {},
   "outputs": [],
   "source": [
    "import json, pandas as pd, matplotlib.pyplot as plt\n",
    "from pystackql import StackQL\n",
    "auth = { \n",
    "    \"google\": { \n",
    "        \"credentialsfilepath\": \"/keys/stackql-security-reviewer-7ef254ab928b.json\",  \n",
    "        \"type\": \"service_account\" \n",
    "    }\n",
    "}\n",
    "iql = StackQL(auth=json.dumps(auth))"
   ]
  },
  {
   "cell_type": "code",
   "execution_count": null,
   "id": "641c4b24",
   "metadata": {},
   "outputs": [],
   "source": [
    "iql.executeStmt(\"REGISTRY PULL google v0.1.2\")"
   ]
  },
  {
   "cell_type": "code",
   "execution_count": null,
   "id": "80c422ee",
   "metadata": {},
   "outputs": [],
   "source": [
    "iql_query = \"\"\"\n",
    "SELECT status, count(*) as num_instances\n",
    "FROM google.compute.instances\n",
    "WHERE project = 'stackql-demo' \n",
    "AND zone = 'australia-southeast1-a'\n",
    "GROUP BY status\n",
    "\"\"\"\n",
    "pd.read_json(iql.execute(iql_query)).plot(kind='bar', title='Instances by Status', x='status', y='num_instances')"
   ]
  },
  {
   "cell_type": "code",
   "execution_count": null,
   "id": "e9c43eaf",
   "metadata": {},
   "outputs": [],
   "source": [
    "df = pd.read_json(iql.execute(iql_query))\n",
    "df.index = df.status\n",
    "plot = df.plot.pie(y='num_instances', figsize=(5, 5))\n",
    "plt.show()"
   ]
  },
  {
   "cell_type": "code",
   "execution_count": null,
   "id": "e0eb4117",
   "metadata": {},
   "outputs": [],
   "source": [
    "iql_query = \"\"\"\n",
    "SELECT SUBSTR(machineType, 103) as machineType, count(*) as num_instances\n",
    "FROM google.compute.instances\n",
    "WHERE project = 'stackql-demo' \n",
    "AND zone = 'australia-southeast1-a'\n",
    "GROUP BY machineType\n",
    "\"\"\"\n",
    "pd.read_json(iql.execute(iql_query)).plot(kind='bar', title='Instances by Status', x='machineType', y='num_instances')"
   ]
  }
 ],
 "metadata": {
  "kernelspec": {
   "display_name": "Python 3",
   "language": "python",
   "name": "python3"
  },
  "language_info": {
   "codemirror_mode": {
    "name": "ipython",
    "version": 3
   },
   "file_extension": ".py",
   "mimetype": "text/x-python",
   "name": "python",
   "nbconvert_exporter": "python",
   "pygments_lexer": "ipython3",
   "version": "3.9.2"
  }
 },
 "nbformat": 4,
 "nbformat_minor": 5
}
