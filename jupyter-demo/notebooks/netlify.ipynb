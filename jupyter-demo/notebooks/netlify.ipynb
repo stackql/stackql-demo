{
 "cells": [
  {
   "cell_type": "code",
   "execution_count": null,
   "metadata": {},
   "outputs": [],
   "source": [
    "import json, pandas as pd\n",
    "from pystackql import StackQL\n",
    "auth = { \n",
    "        \"netlify\": { \n",
    "        \"credentialsenvvar\": \"NETLIFY_TOKEN\",  \n",
    "        \"type\": \"api_key\",\n",
    "        \"valuePrefix\": \"Bearer \"\n",
    "        } \n",
    "       }\n",
    "iql = StackQL(auth=json.dumps(auth))"
   ]
  },
  {
   "cell_type": "code",
   "execution_count": null,
   "metadata": {},
   "outputs": [],
   "source": [
    "iql.executeStmt(\"REGISTRY PULL netlify v0.1.0\")"
   ]
  },
  {
   "cell_type": "code",
   "execution_count": null,
   "metadata": {},
   "outputs": [],
   "source": [
    "iql_query=\"\"\"\n",
    "select date(created_at) as created_at, count(*) as num_builds\n",
    "from netlify.builds.build\n",
    "where site_id = 'ad26d902-9cb1-43be-90d9-284e8c7ac687'\n",
    "group by date(created_at)\n",
    "\"\"\"\n",
    "pd.read_json(iql.execute(iql_query)).plot(kind='line', title='Daily Builds', x='created_at', y='num_builds')"
   ]
  }
 ],
 "metadata": {
  "language_info": {
   "name": "python"
  },
  "orig_nbformat": 4
 },
 "nbformat": 4,
 "nbformat_minor": 2
}
