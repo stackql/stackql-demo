{
 "cells": [
  {
   "cell_type": "code",
   "execution_count": null,
   "metadata": {},
   "outputs": [],
   "source": [
    "import json, pandas as pd\n",
    "from pystackql import StackQL\n",
    "auth = { \n",
    "        \"okta\": { \n",
    "        \"credentialsenvvar\": \"OKTA_SECRET_KEY\",  \n",
    "        \"type\": \"api_key\" \n",
    "        } \n",
    "       }\n",
    "iql = StackQL(auth=json.dumps(auth))       "
   ]
  },
  {
   "cell_type": "code",
   "execution_count": null,
   "metadata": {},
   "outputs": [],
   "source": [
    "iql.executeStmt(\"REGISTRY PULL okta v0.1.0\")"
   ]
  },
  {
   "cell_type": "code",
   "execution_count": null,
   "metadata": {},
   "outputs": [],
   "source": [
    "iql_query = \"\"\"\n",
    "SELECT status, COUNT(*) as num\n",
    "FROM okta.user.users \n",
    "WHERE subdomain = 'dev-72290228'\n",
    "GROUP BY status\n",
    "\"\"\"\n",
    "pd.read_json(iql.execute(iql_query)).plot(kind='bar', title='User Status', x='status', y='num')"
   ]
  }
 ],
 "metadata": {
  "language_info": {
   "name": "python"
  },
  "orig_nbformat": 4
 },
 "nbformat": 4,
 "nbformat_minor": 2
}
